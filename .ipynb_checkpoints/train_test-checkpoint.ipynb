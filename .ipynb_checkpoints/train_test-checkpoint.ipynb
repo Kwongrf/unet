{
 "cells": [
  {
   "cell_type": "code",
   "execution_count": null,
   "metadata": {},
   "outputs": [],
   "source": [
    "from model import *\n",
    "from data import *\n",
    "import tensorflow as tf\n",
    "from keras.backend.tensorflow_backend import set_session\n",
    "\n",
    "config = tf.ConfigProto()\n",
    "config.gpu_options.allow_growth = True\n",
    "config.gpu_options.per_process_gpu_memory_fraction = 0.4\n",
    "set_session(tf.Session(config=config))\n",
    "\n",
    "DATA_DIR = \"/data/krf/dataset/ChinaSet_AllFiles\"\n",
    "ROOT_DIR = \"/data/krf/model/rsna\"\n",
    "\n",
    "data_gen_args = dict(rotation_range=0.2,\n",
    "                    width_shift_range=0.05,\n",
    "                    height_shift_range=0.05,\n",
    "                    shear_range=0.05,\n",
    "                    zoom_range=0.05,\n",
    "                    horizontal_flip=True,\n",
    "                    fill_mode='nearest')\n",
    "myGene = trainGenerator(2,DATA_DIR,'CXR_png','mask',data_gen_args,save_to_dir = None)\n",
    "valGene = trainGenerator(2,DATA_DIR,'val','val_mask',data_gen_args,save_to_dir = None)\n",
    "\n",
    "model = unet(pretrained_weight = \"unet_lung.hdf5\")\n",
    "model_checkpoint = ModelCheckpoint('unet_lung.hdf5',monitor='val_loss',verbose=1, save_best_only=True)\n",
    "\n",
    "model.fit_generator(myGene,steps_per_epoch=2000,epochs=8,validation_data = valGene,validation_steps = 2000,callbacks=[model_checkpoint])"
   ]
  },
  {
   "cell_type": "code",
   "execution_count": null,
   "metadata": {},
   "outputs": [],
   "source": [
    "CASE_DIR = \"/data/krf/dataset/stage_1_train_images/\"\n",
    "def testGenerator2(test_path,num_image,target_size = (512,512),flag_multi_class = False,as_gray = True):\n",
    "    f_list = os.listdir(test_path)\n",
    "    f_list.sort()\n",
    "    for f in f_list[:num_image]:\n",
    "        #img = io.imread(os.path.join(test_path,f),as_gray = as_gray)\n",
    "        img = pydicom.read_file(os.path.join(test_path,f)).pixel_array\n",
    "        img = img / 255\n",
    "        img = trans.resize(img,target_size)\n",
    "        img = np.reshape(img,img.shape+(1,)) if (not flag_multi_class) else img\n",
    "        img = np.reshape(img,(1,)+img.shape)\n",
    "        yield img\n",
    "        \n",
    "testGene2 = testGenerator2(CASE_DIR,len(os.listdir(CASE_DIR)))\n",
    "model2 = unet()\n",
    "model2.load_weights(\"unet_lung.hdf5\")\n",
    "results2 = model2.predict_generator(testGene2,len(os.listdir(CASE_DIR)),verbose=1)"
   ]
  },
  {
   "cell_type": "code",
   "execution_count": null,
   "metadata": {},
   "outputs": [],
   "source": [
    "saveResult(CASE_DIR,\"/data/krf/dataset/stage_1_train_masks/\",results2)"
   ]
  },
  {
   "cell_type": "code",
   "execution_count": null,
   "metadata": {},
   "outputs": [],
   "source": [
    "TEST_DIR = \"/data/krf/dataset/stage_1_test_images/\"\n",
    "testGene3 = testGenerator2(TEST_DIR,1000)\n",
    "model3 = unet()\n",
    "model3.load_weights(\"unet_lung.hdf5\")\n",
    "results3 = model3.predict_generator(testGene3,1000,verbose=1)"
   ]
  },
  {
   "cell_type": "code",
   "execution_count": null,
   "metadata": {},
   "outputs": [],
   "source": [
    "saveResult(TEST_DIR,\"/data/krf/dataset/stage_1_test_masks/\",results3)"
   ]
  }
 ],
 "metadata": {
  "anaconda-cloud": {},
  "kernelspec": {
   "display_name": "Python [default]",
   "language": "python",
   "name": "python3"
  },
  "language_info": {
   "codemirror_mode": {
    "name": "ipython",
    "version": 3
   },
   "file_extension": ".py",
   "mimetype": "text/x-python",
   "name": "python",
   "nbconvert_exporter": "python",
   "pygments_lexer": "ipython3",
   "version": "3.5.6"
  }
 },
 "nbformat": 4,
 "nbformat_minor": 2
}
